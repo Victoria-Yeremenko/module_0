{
 "cells": [
  {
   "cell_type": "code",
   "execution_count": null,
   "metadata": {},
   "outputs": [],
   "source": [
    "import numpy as np\n",
    "number = np.random.randint(1,101)    # задаем случайное число\n",
    "\n",
    "\n",
    "def game_core(number):    \n",
    "    '''Функция принимает загаданное число и возвращает количество попыток.\n",
    "       На каждом шаге с загаданным числом сравнивается среднее чисел диапазона,\n",
    "       на основании обратной связи сокращается диапазон. '''\n",
    "    \n",
    "    count = 0\n",
    "    range_start = 0\n",
    "    range_end = 101 \n",
    "    ''' Диапазон увеличен на 1 в начале и в конце, чтобы функция могла \n",
    "         угадать крайние числа - 1 и 100 - путем усреднения. '''\n",
    "   \n",
    "    while True:\n",
    "        \n",
    "        guess = range_start + int((range_end-range_start)/2)\n",
    "        count +=1\n",
    "        \n",
    "        if number > guess:\n",
    "            range_start = guess\n",
    "            \n",
    "        elif number < guess: \n",
    "            range_end = guess\n",
    "            \n",
    "        else:\n",
    "            break\n",
    "            \n",
    "    return count\n",
    "\n",
    "\n",
    "def score_game(game_core):\n",
    "    '''Функция запускает игру 1000 раз и возвращает среднее количество попыток.'''\n",
    "    \n",
    "    np.random.seed(1) # фиксируем RANDOM SEED, чтобы эксперимент был воспроизводим.\n",
    "    random_array = np.random.randint(1,101, size=1000)\n",
    "    \n",
    "    count_ls = [game_core(number) for number in random_array]  \n",
    "    score = int(np.mean(count_ls))\n",
    "    \n",
    "    print(f\"Ваш алгоритм угадывает число в среднем за {score} попыток\")"
   ]
  },
  {
   "cell_type": "code",
   "execution_count": null,
   "metadata": {},
   "outputs": [],
   "source": [
    "score_game(game_core)"
   ]
  }
 ],
 "metadata": {
  "kernelspec": {
   "display_name": "Python 3",
   "language": "python",
   "name": "python3"
  },
  "language_info": {
   "codemirror_mode": {
    "name": "ipython",
    "version": 3
   },
   "file_extension": ".py",
   "mimetype": "text/x-python",
   "name": "python",
   "nbconvert_exporter": "python",
   "pygments_lexer": "ipython3",
   "version": "3.7.4"
  }
 },
 "nbformat": 4,
 "nbformat_minor": 2
}
